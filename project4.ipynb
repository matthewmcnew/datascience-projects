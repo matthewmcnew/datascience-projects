{
 "cells": [
  {
   "cell_type": "code",
   "execution_count": 2,
   "metadata": {
    "collapsed": false
   },
   "outputs": [
    {
     "data": {
      "text/html": [
       "<script>\n",
       "code_show=true; \n",
       "function code_toggle() {\n",
       " if (code_show){\n",
       " $('div.input').hide();\n",
       " } else {\n",
       " $('div.input').show();\n",
       " }\n",
       " code_show = !code_show\n",
       "} \n",
       "$( document ).ready(code_toggle);\n",
       "</script>\n",
       "The raw code for this IPython notebook is by default hidden for easier reading.\n",
       "To toggle on/off the raw code, click <a href=\"javascript:code_toggle()\">here</a>."
      ],
      "text/plain": [
       "<IPython.core.display.HTML object>"
      ]
     },
     "execution_count": 2,
     "metadata": {},
     "output_type": "execute_result"
    }
   ],
   "source": [
    "from IPython.display import HTML\n",
    "HTML('''<script>\n",
    "code_show=true; \n",
    "function code_toggle() {\n",
    " if (code_show){\n",
    " $('div.input').hide();\n",
    " } else {\n",
    " $('div.input').show();\n",
    " }\n",
    " code_show = !code_show\n",
    "} \n",
    "$( document ).ready(code_toggle);\n",
    "</script>\n",
    "The raw code for this IPython notebook is by default hidden for easier reading.\n",
    "To toggle on/off the raw code, click <a href=\"javascript:code_toggle()\">here</a>.''')"
   ]
  },
  {
   "cell_type": "markdown",
   "metadata": {},
   "source": [
    "# Project 4\n",
    "\n",
    "In this project, you will summarize and present your analysis from Projects 1-3."
   ]
  },
  {
   "cell_type": "markdown",
   "metadata": {},
   "source": [
    "### Intro: Write a problem Statement/ Specific Aim for this project"
   ]
  },
  {
   "cell_type": "markdown",
   "metadata": {},
   "source": [
    "Answer: The aim for this project was to analyze the statistical properties of UCLA graduate school admissions dataset. "
   ]
  },
  {
   "cell_type": "markdown",
   "metadata": {},
   "source": [
    "The goal of the project is to build an interpretable model that can accurately predict if a student will be admitted to UCLA's graduate school. In addition, the project aims to find which variables are strong predictors of admission probability and if any variables are irrelevant when predicting admission. \n"
   ]
  },
  {
   "cell_type": "markdown",
   "metadata": {},
   "source": [
    "### Dataset:  Write up a description of your data and any cleaning that was completed"
   ]
  },
  {
   "cell_type": "markdown",
   "metadata": {},
   "source": [
    "Answer: \n",
    "\n",
    "The dataset has 400 entries for UCLA applications and can be viewed in its csv format at: https://raw.githubusercontent.com/matthewmcnew/datascience-projects/master/admissions.csv. \n",
    "\n",
    "Four variables are available for analysis. GPA is continuous and represents the GPA of the student applying. GRE is continuous and represents the GRE test score of the student applying. The prestige has 4 values representing the relative prestige of applications' undergraduate university. A value of 1 represents a university of the highest prestige whereas, a value of 4 represents a university of the lowest prestige.  \n"
   ]
  },
  {
   "cell_type": "markdown",
   "metadata": {},
   "source": [
    "Three entries in the dataset have missing values. These values have been dropped from the analysis due to their relative infrequency. \n"
   ]
  },
  {
   "cell_type": "markdown",
   "metadata": {
    "collapsed": true
   },
   "source": [
    "### Demo: Provide a table that explains the data by admission status"
   ]
  },
  {
   "cell_type": "code",
   "execution_count": 1,
   "metadata": {
    "collapsed": false
   },
   "outputs": [],
   "source": [
    "import pandas as pd\n",
    "import numpy as np\n",
    "df = pd.read_csv(\"https://raw.githubusercontent.com/matthewmcnew/datascience-projects/master/admissions.csv\").dropna()\n"
   ]
  },
  {
   "cell_type": "code",
   "execution_count": 71,
   "metadata": {
    "collapsed": false
   },
   "outputs": [
    {
     "name": "stdout",
     "output_type": "stream",
     "text": [
      "admit              0           1\n",
      "gpa mean    3.347159    3.489206\n",
      "    std     0.376355    0.371655\n",
      "gre mean  573.579336  618.571429\n",
      "    std   116.052798  109.257233\n",
      "\n",
      "\n",
      "Prestige 1 | 28 (45.90%) | 33 (54.10%)\n",
      "Prestige 2 | 95 (64.19%) | 53 (35.81%)\n",
      "Prestige 3 | 93 (76.86%) | 28 (23.14%)\n",
      "Prestige 4 | 55 (82.09%) | 12 (17.91%)\n"
     ]
    }
   ],
   "source": [
    "print df.groupby('admit')['gpa','gre'].agg([np.mean, np.std]).transpose()\n",
    "print \"\\n\"\n",
    "\n",
    "def calc_frequency(df, name=''):\n",
    "    total = float(len(df))\n",
    "    number_admitted = df.admit.sum()\n",
    "    percentage = number_admitted/total\n",
    "    admitted = \"{0} ({1:.2f}%)\".format(number_admitted, 100*percentage)\n",
    "    not_admitted = \"{0} ({1:.2f}%)\".format(int(total - number_admitted), 100*(1-percentage))\n",
    "    return \"{} | {} | {}\".format(name, not_admitted, admitted)                                       \n",
    "    \n",
    "print calc_frequency(df[df.prestige ==1], 'Prestige 1')\n",
    "print calc_frequency(df[df.prestige ==2], 'Prestige 2')\n",
    "print calc_frequency(df[df.prestige ==3], 'Prestige 3')\n",
    "print calc_frequency(df[df.prestige ==4], 'Prestige 4')"
   ]
  },
  {
   "cell_type": "markdown",
   "metadata": {},
   "source": [
    "Mean (STD) or counts by admission status for each variable \n",
    "\n",
    "| Not Admitted | Admitted\n",
    "---| ---|---\n",
    "GPA | mean: 3.347159 <br> std: 0.376355  | mean: 3.489206 <br> std: 0.371655\n",
    "GRE | mean: 573.579336 <br> std: 116.052798 | mean: 618.571429 <br> std: 109.257233\n",
    "Prestige 1 | 28 (45.90%) | 33 (54.10%)\n",
    "Prestige 2 | 95 (64.19%) | 53 (35.81%)\n",
    "Prestige 3 | 93 (76.86%) | 28 (23.14%)\n",
    "Prestige 4 | 55 (82.09%) | 12 (17.91%)"
   ]
  },
  {
   "cell_type": "code",
   "execution_count": null,
   "metadata": {
    "collapsed": true
   },
   "outputs": [],
   "source": []
  },
  {
   "cell_type": "markdown",
   "metadata": {},
   "source": [
    "### Methods: Write up the methods used in your analysis"
   ]
  },
  {
   "cell_type": "markdown",
   "metadata": {},
   "source": [
    "Answer:"
   ]
  },
  {
   "cell_type": "markdown",
   "metadata": {},
   "source": [
    "Initial exploratory analysis used charts to visualize the variables in the dataset. Exploratory statistics were utilized to detect any anomalies and ensure that the data was a good fit for logistic regression. Correlation coefficients were calculated to detect possible multicollinear variables. This was accomplished with pandas and matplotlib. \n",
    "\n",
    "A logistic regression model was calculated to predict admission probability. The inputs for the logistic regression were GPA, GRE, and three 'dummy' variables for prestiges 2-4. Prestige 1 was used as as a baseline and left out. The python statsmodels package was used to calculate the model. \n"
   ]
  },
  {
   "cell_type": "markdown",
   "metadata": {},
   "source": [
    "### Results: Write up your results"
   ]
  },
  {
   "cell_type": "markdown",
   "metadata": {},
   "source": [
    "Answer:"
   ]
  },
  {
   "cell_type": "markdown",
   "metadata": {},
   "source": [
    "GPA and GRE were close to a normal distribution, and there were no high correlation coefficients in the dataset. This meant that the data was a good candidate for logistic regression. \n",
    "\n",
    "The logistic regression model outputted positive coefficients with relatively low p values for GPA and GRE. Therefore there is a strong likelihood that an increase in GPA or GRE will increase the probability of admission.\n",
    "\n",
    "The model outputted negative coefficients with relatively low p values for dummy variables corresponding with prestiges of 2, 3 or 4. Therefore there is a strong likelihood that applications from universities of lower prestiges have a lower probability of admission.\n",
    "\n",
    "An easy way to interpret the model is by the studying the odds ratios of the coefficients. The odds ratio can be obtained by taking the inverse natural log (e^x) of the coefficent. For example, the odds ratio of GPA is (e^0.7793)= 2.18. This corresponds to an 118% increase in odds of admission for every 1 point increase in GPA. The odds ratio of the prestige 2 variable indicator is 0.506. This indicates that there is an approximately 50% decrease in the odds if an applicant applies from a University of prestige 2. There is a 74% and 79% decrease in the odds with applications from Universities of prestige 3 and 4, respectively. \n",
    "\n",
    "The odds of GRE is a bit trickier to interpret due the large variation in the dataset. The coefficient for GRE is 0.0022. For a 100 point increase in GRE the odds ratio would equal: e^(100*0.0022) = 1.24. This would result in a 24% increase in the odds of admission. "
   ]
  },
  {
   "cell_type": "markdown",
   "metadata": {},
   "source": [
    "### Visuals: Provide a table or visualization of these results"
   ]
  },
  {
   "cell_type": "markdown",
   "metadata": {},
   "source": [
    "#### Distribution of Variables:"
   ]
  },
  {
   "cell_type": "code",
   "execution_count": 88,
   "metadata": {
    "collapsed": false
   },
   "outputs": [
    {
     "data": {
      "text/plain": [
       "array([[<matplotlib.axes._subplots.AxesSubplot object at 0x11604ab50>,\n",
       "        <matplotlib.axes._subplots.AxesSubplot object at 0x11663ae10>],\n",
       "       [<matplotlib.axes._subplots.AxesSubplot object at 0x1166bcd90>,\n",
       "        <matplotlib.axes._subplots.AxesSubplot object at 0x11672d1d0>]], dtype=object)"
      ]
     },
     "execution_count": 88,
     "metadata": {},
     "output_type": "execute_result"
    },
    {
     "data": {
      "image/png": "[encoded data removed]",
      "text/plain": [
       "<matplotlib.figure.Figure at 0x116092e90>"
      ]
     },
     "metadata": {},
     "output_type": "display_data"
    }
   ],
   "source": [
    "%matplotlib inline\n",
    "df[['gpa','gre','prestige']].hist(figsize=(10,10))"
   ]
  },
  {
   "cell_type": "markdown",
   "metadata": {},
   "source": [
    "#### Logistic Regression Summary:"
   ]
  },
  {
   "cell_type": "code",
   "execution_count": 12,
   "metadata": {
    "collapsed": false
   },
   "outputs": [
    {
     "name": "stdout",
     "output_type": "stream",
     "text": [
      "Optimization terminated successfully.\n",
      "         Current function value: 0.573854\n",
      "         Iterations 6\n"
     ]
    },
    {
     "data": {
      "text/html": [
       "<table class=\"simpletable\">\n",
       "<caption>Logit Regression Results</caption>\n",
       "<tr>\n",
       "  <th>Dep. Variable:</th>       <td>admit</td>      <th>  No. Observations:  </th>  <td>   397</td>  \n",
       "</tr>\n",
       "<tr>\n",
       "  <th>Model:</th>               <td>Logit</td>      <th>  Df Residuals:      </th>  <td>   391</td>  \n",
       "</tr>\n",
       "<tr>\n",
       "  <th>Method:</th>               <td>MLE</td>       <th>  Df Model:          </th>  <td>     5</td>  \n",
       "</tr>\n",
       "<tr>\n",
       "  <th>Date:</th>          <td>Mon, 02 May 2016</td> <th>  Pseudo R-squ.:     </th>  <td>0.08166</td> \n",
       "</tr>\n",
       "<tr>\n",
       "  <th>Time:</th>              <td>22:24:54</td>     <th>  Log-Likelihood:    </th> <td> -227.82</td> \n",
       "</tr>\n",
       "<tr>\n",
       "  <th>converged:</th>           <td>True</td>       <th>  LL-Null:           </th> <td> -248.08</td> \n",
       "</tr>\n",
       "<tr>\n",
       "  <th> </th>                      <td> </td>        <th>  LLR p-value:       </th> <td>1.176e-07</td>\n",
       "</tr>\n",
       "</table>\n",
       "<table class=\"simpletable\">\n",
       "<tr>\n",
       "        <td></td>          <th>coef</th>     <th>std err</th>      <th>z</th>      <th>P>|z|</th> <th>[95.0% Conf. Int.]</th> \n",
       "</tr>\n",
       "<tr>\n",
       "  <th>intercept</th>    <td>   -3.8769</td> <td>    1.142</td> <td>   -3.393</td> <td> 0.001</td> <td>   -6.116    -1.638</td>\n",
       "</tr>\n",
       "<tr>\n",
       "  <th>gre</th>          <td>    0.0022</td> <td>    0.001</td> <td>    2.028</td> <td> 0.043</td> <td> 7.44e-05     0.004</td>\n",
       "</tr>\n",
       "<tr>\n",
       "  <th>gpa</th>          <td>    0.7793</td> <td>    0.333</td> <td>    2.344</td> <td> 0.019</td> <td>    0.128     1.431</td>\n",
       "</tr>\n",
       "<tr>\n",
       "  <th>prestige_2.0</th> <td>   -0.6801</td> <td>    0.317</td> <td>   -2.146</td> <td> 0.032</td> <td>   -1.301    -0.059</td>\n",
       "</tr>\n",
       "<tr>\n",
       "  <th>prestige_3.0</th> <td>   -1.3387</td> <td>    0.345</td> <td>   -3.882</td> <td> 0.000</td> <td>   -2.015    -0.663</td>\n",
       "</tr>\n",
       "<tr>\n",
       "  <th>prestige_4.0</th> <td>   -1.5534</td> <td>    0.417</td> <td>   -3.721</td> <td> 0.000</td> <td>   -2.372    -0.735</td>\n",
       "</tr>\n",
       "</table>"
      ],
      "text/plain": [
       "<class 'statsmodels.iolib.summary.Summary'>\n",
       "\"\"\"\n",
       "                           Logit Regression Results                           \n",
       "==============================================================================\n",
       "Dep. Variable:                  admit   No. Observations:                  397\n",
       "Model:                          Logit   Df Residuals:                      391\n",
       "Method:                           MLE   Df Model:                            5\n",
       "Date:                Mon, 02 May 2016   Pseudo R-squ.:                 0.08166\n",
       "Time:                        22:24:54   Log-Likelihood:                -227.82\n",
       "converged:                       True   LL-Null:                       -248.08\n",
       "                                        LLR p-value:                 1.176e-07\n",
       "================================================================================\n",
       "                   coef    std err          z      P>|z|      [95.0% Conf. Int.]\n",
       "--------------------------------------------------------------------------------\n",
       "intercept       -3.8769      1.142     -3.393      0.001        -6.116    -1.638\n",
       "gre              0.0022      0.001      2.028      0.043      7.44e-05     0.004\n",
       "gpa              0.7793      0.333      2.344      0.019         0.128     1.431\n",
       "prestige_2.0    -0.6801      0.317     -2.146      0.032        -1.301    -0.059\n",
       "prestige_3.0    -1.3387      0.345     -3.882      0.000        -2.015    -0.663\n",
       "prestige_4.0    -1.5534      0.417     -3.721      0.000        -2.372    -0.735\n",
       "================================================================================\n",
       "\"\"\""
      ]
     },
     "execution_count": 12,
     "metadata": {},
     "output_type": "execute_result"
    }
   ],
   "source": [
    "import statsmodels.api as sm\n",
    "# df = df.join(pd.get_dummies(df.prestige, prefix=\"prestige\"))\n",
    "df['intercept'] = 1.0\n",
    "train_cols = ['intercept', 'gre', 'gpa', 'prestige_2.0', 'prestige_3.0', 'prestige_4.0']\n",
    "model = sm.Logit(df['admit'], df[train_cols])\n",
    "result = model.fit()\n",
    "result.summary()"
   ]
  },
  {
   "cell_type": "code",
   "execution_count": 35,
   "metadata": {
    "collapsed": false
   },
   "outputs": [],
   "source": [
    "def cartesian(arrays, out=None):\n",
    "    arrays = [np.asarray(x) for x in arrays]\n",
    "    dtype = arrays[0].dtype\n",
    "\n",
    "    n = np.prod([x.size for x in arrays])\n",
    "    if out is None:\n",
    "        out = np.zeros([n, len(arrays)], dtype=dtype)\n",
    "\n",
    "    m = n / arrays[0].size\n",
    "    out[:,0] = np.repeat(arrays[0], m)\n",
    "    if arrays[1:]:\n",
    "        cartesian(arrays[1:], out=out[0:m,1:])\n",
    "        for j in xrange(1, arrays[0].size):\n",
    "            out[j*m:(j+1)*m,1:] = out[0:m,1:]\n",
    "    return out\n",
    "\n",
    "gres = np.linspace(df['gre'].min(), df['gre'].max(), 10)\n",
    "gpas = np.linspace(df['gpa'].min(), df['gpa'].max(), 10)\n",
    "prestiges = [1, 2, 3, 4]\n",
    "intercept = [1.]\n",
    "combos = pd.DataFrame(cartesian([gres, gpas, prestiges, intercept]), columns = ['gre', 'gpa', 'prestige', 'intercept'])\n",
    "combos = combos.join(pd.get_dummies(combos.prestige, prefix=\"prestige\"))\n",
    "combos['prob_of_admission'] = result.predict(combos[train_cols])\n",
    "\n",
    "# def add_line_for(prestige, variable):\n",
    "#     variables = combos[combos.prestige == prestige].groupby(variable).mean().index\n",
    "#     props = combos[combos.prestige == prestige].groupby(variable).mean()['prob_of_admission']\n",
    "#     plt.plot(variables, props)"
   ]
  },
  {
   "cell_type": "markdown",
   "metadata": {},
   "source": [
    "#### Visualizations of Predicted Probability from Logistic Regression:"
   ]
  },
  {
   "cell_type": "code",
   "execution_count": 38,
   "metadata": {
    "collapsed": false
   },
   "outputs": [
    {
     "data": {
      "image/png": "[encoded data removed]",
      "text/plain": [
       "<matplotlib.figure.Figure at 0x10b7d9e50>"
      ]
     },
     "metadata": {},
     "output_type": "display_data"
    }
   ],
   "source": [
    "%matplotlib inline\n",
    "import matplotlib.pyplot as plt\n",
    "\n",
    "add_line_for(prestige=1, variable='gpa')\n",
    "add_line_for(prestige=2, variable='gpa')\n",
    "add_line_for(prestige=3, variable='gpa')\n",
    "add_line_for(prestige=4, variable='gpa')\n",
    "\n",
    "plt.xlabel('gpa')\n",
    "plt.ylabel(\"Prob of Admission\")\n",
    "plt.legend(['1', '2', '3', '4'], loc='upper left', title='Prestige')\n",
    "plt.show()"
   ]
  },
  {
   "cell_type": "code",
   "execution_count": 39,
   "metadata": {
    "collapsed": false
   },
   "outputs": [
    {
     "data": {
      "image/png": "[encoded data removed]",
      "text/plain": [
       "<matplotlib.figure.Figure at 0x10afe8910>"
      ]
     },
     "metadata": {},
     "output_type": "display_data"
    }
   ],
   "source": [
    "add_line_for(prestige=1, variable='gre')\n",
    "add_line_for(prestige=2, variable='gre')\n",
    "add_line_for(prestige=3, variable='gre')\n",
    "add_line_for(prestige=4, variable='gre')\n",
    "\n",
    "plt.xlabel('gre')\n",
    "plt.ylabel(\"Prob of Admission\")\n",
    "plt.legend(['1', '2', '3', '4'], loc='upper left', title='Prestige')\n",
    "plt.show()"
   ]
  },
  {
   "cell_type": "markdown",
   "metadata": {},
   "source": [
    "### Discussion: Write up your discussion and future steps"
   ]
  },
  {
   "cell_type": "markdown",
   "metadata": {},
   "source": [
    "Answer: "
   ]
  },
  {
   "cell_type": "markdown",
   "metadata": {},
   "source": [
    "The logistic regression model captures the effect of the input variables in an easily interpretable manner. As demonstrated in the visualization above, there is a clear predicted increase in admission probability with higher GPAs, GREs and prestige of applicant’s university. In addition, the coefficients for the logistic regression model have very low p-values. This indicates that there is a high probability that these variables do have an influence on the probability of admission. This is valuable information that can be used and expanded in future studies. "
   ]
  },
  {
   "cell_type": "markdown",
   "metadata": {},
   "source": [
    "The next steps in analysis would be splitting the model into a testing and training sets to get a more accurate picture of the accuracy of the model. This accuracy could be improved by attempting regularization using cross validation. Regularization may help increase the accuracy of the model, however other techniques may provide even more accurate predictions. In the future, some of these other techniques such as decision trees and support vector machines will be studied."
   ]
  },
  {
   "cell_type": "code",
   "execution_count": null,
   "metadata": {
    "collapsed": false
   },
   "outputs": [],
   "source": []
  },
  {
   "cell_type": "code",
   "execution_count": null,
   "metadata": {
    "collapsed": true
   },
   "outputs": [],
   "source": []
  }
 ],
 "metadata": {
  "kernelspec": {
   "display_name": "Python 2",
   "language": "python",
   "name": "python2"
  },
  "language_info": {
   "codemirror_mode": {
    "name": "ipython",
    "version": 2
   },
   "file_extension": ".py",
   "mimetype": "text/x-python",
   "name": "python",
   "nbconvert_exporter": "python",
   "pygments_lexer": "ipython2",
   "version": "2.7.10"
  }
 },
 "nbformat": 4,
 "nbformat_minor": 0
}
